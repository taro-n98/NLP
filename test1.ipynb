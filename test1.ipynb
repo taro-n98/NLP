{
 "cells": [
  {
   "cell_type": "markdown",
   "metadata": {},
   "source": [
    "## 文書の読み込み"
   ]
  },
  {
   "cell_type": "code",
   "execution_count": 55,
   "metadata": {},
   "outputs": [],
   "source": [
    "from docx import Document"
   ]
  },
  {
   "cell_type": "code",
   "execution_count": 63,
   "metadata": {},
   "outputs": [
    {
     "data": {
      "text/plain": [
       "453"
      ]
     },
     "execution_count": 63,
     "metadata": {},
     "output_type": "execute_result"
    }
   ],
   "source": [
    "doc_file_path = 'contact_sample.docx'\n",
    "doc = docx.Document(doc_file_path)\n",
    "\n",
    "# 段落数\n",
    "len(doc.paragraphs)"
   ]
  },
  {
   "cell_type": "code",
   "execution_count": 94,
   "metadata": {},
   "outputs": [
    {
     "name": "stdout",
     "output_type": "stream",
     "text": [
      "目次\n",
      "第1条（定義）\t1\n"
     ]
    }
   ],
   "source": [
    "print(doc.paragraphs[0].text)\n",
    "print(doc.paragraphs[1].text)"
   ]
  },
  {
   "cell_type": "code",
   "execution_count": 98,
   "metadata": {},
   "outputs": [
    {
     "name": "stdout",
     "output_type": "stream",
     "text": [
      "1\n",
      "目次\n",
      "13\n",
      "\n",
      "\n",
      "\n",
      "第\n",
      "1\n",
      "条（定義）\n"
     ]
    }
   ],
   "source": [
    "# Runオブジェクトの数\n",
    "# Runオブジェクト：wordドキュメントには、フォントやフォントのサイズ、色などのスタイルが設定されている。\n",
    "# 同じスタイルが連続して適用されているテキストは1つのRunオブジェクトにまとめられ、スタイルが切り替わる度に新しいRunオブジェクトが作られる。\n",
    "print(len(doc.paragraphs[0].runs))\n",
    "print(doc.paragraphs[0].runs[0].text)\n",
    "\n",
    "print(len(doc.paragraphs[1].runs))\n",
    "print(doc.paragraphs[1].runs[0].text)\n",
    "print(doc.paragraphs[1].runs[1].text)\n",
    "print(doc.paragraphs[1].runs[2].text)\n",
    "print(doc.paragraphs[1].runs[3].text)\n",
    "print(doc.paragraphs[1].runs[4].text)\n",
    "print(doc.paragraphs[1].runs[5].text)"
   ]
  },
  {
   "cell_type": "code",
   "execution_count": 139,
   "metadata": {},
   "outputs": [],
   "source": [
    "# テキストを読み込む関数を作成\n",
    "def get_text(path):\n",
    "    # wordドキュメントを開く\n",
    "    doc = docx.Document(path)\n",
    "    # テキストを保持するリスト\n",
    "    all_text = []\n",
    "    # Paragraphオブジェクトから要素を取り出す\n",
    "    for para in doc.paragraphs:\n",
    "        # テキストを取得してall_textに追加\n",
    "        all_text.append(para.text)\n",
    "    return all_text\n"
   ]
  },
  {
   "cell_type": "code",
   "execution_count": 146,
   "metadata": {},
   "outputs": [
    {
     "data": {
      "text/plain": [
       "453"
      ]
     },
     "execution_count": 146,
     "metadata": {},
     "output_type": "execute_result"
    }
   ],
   "source": [
    "df = get_text(doc_file_path)\n",
    "len(df)"
   ]
  }
 ],
 "metadata": {
  "kernelspec": {
   "display_name": ".venv",
   "language": "python",
   "name": "python3"
  },
  "language_info": {
   "codemirror_mode": {
    "name": "ipython",
    "version": 3
   },
   "file_extension": ".py",
   "mimetype": "text/x-python",
   "name": "python",
   "nbconvert_exporter": "python",
   "pygments_lexer": "ipython3",
   "version": "3.10.13"
  }
 },
 "nbformat": 4,
 "nbformat_minor": 2
}
